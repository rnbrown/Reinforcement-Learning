{
 "cells": [
  {
   "cell_type": "code",
   "execution_count": 1,
   "metadata": {},
   "outputs": [
    {
     "ename": "SyntaxError",
     "evalue": "non-default argument follows default argument (PlayGame.py, line 21)",
     "output_type": "error",
     "traceback": [
      "Traceback \u001b[0;36m(most recent call last)\u001b[0m:\n",
      "  File \u001b[1;32m\"/home/rb/anaconda3/lib/python3.6/site-packages/IPython/core/interactiveshell.py\"\u001b[0m, line \u001b[1;32m2910\u001b[0m, in \u001b[1;35mrun_code\u001b[0m\n    exec(code_obj, self.user_global_ns, self.user_ns)\n",
      "\u001b[0;36m  File \u001b[0;32m\"<ipython-input-1-72668180eeaa>\"\u001b[0;36m, line \u001b[0;32m9\u001b[0;36m, in \u001b[0;35m<module>\u001b[0;36m\u001b[0m\n\u001b[0;31m    from PlayGame import ai_vs_random, ai_vs_ai, play_game\u001b[0m\n",
      "\u001b[0;36m  File \u001b[0;32m\"/home/rb/Desktop/Reinforcement-Learning/PlayGame.py\"\u001b[0;36m, line \u001b[0;32m21\u001b[0m\n\u001b[0;31m    def ai_vs_random(ai_first=False, training):\u001b[0m\n\u001b[0m                    ^\u001b[0m\n\u001b[0;31mSyntaxError\u001b[0m\u001b[0;31m:\u001b[0m non-default argument follows default argument\n"
     ]
    }
   ],
   "source": [
    "import numpy as np\n",
    "from itertools import product\n",
    "from IPython.display import clear_output\n",
    "import pickle\n",
    "\n",
    "from TicTacToeGame import TTTBoard, getkey\n",
    "from RecursiveLearning import Recursivelearning\n",
    "from QLearning import Qlearning\n",
    "from PlayGame import ai_vs_random, ai_vs_ai, play_game\n",
    "\n",
    "from time import time"
   ]
  },
  {
   "cell_type": "code",
   "execution_count": 2,
   "metadata": {},
   "outputs": [
    {
     "name": "stdout",
     "output_type": "stream",
     "text": [
      "1st player win: 5844\n",
      "2nd player win: 2893\n",
      "Tie game: 1263\n"
     ]
    }
   ],
   "source": [
    "#random game\n",
    "\n",
    "def random_game():\n",
    "    board = TTTBoard()\n",
    "    while not board.done:\n",
    "        xy = (np.random.randint(0,3), np.random.randint(0,3))\n",
    "        if board.possible(xy):\n",
    "            board = board.update(xy)\n",
    "    return board\n",
    "\n",
    "# for _ in random_game().history:\n",
    "#     print(_['s'])\n",
    "#     print('-----------------')\n",
    "\n",
    "scores = []\n",
    "for i in range(10000):\n",
    "    scores.append(random_game().score())\n",
    "print('1st player win: ' + str(scores.count(-1)))\n",
    "print('2nd player win: ' + str(scores.count(1)))\n",
    "print('Tie game: ' + str(scores.count(0)))"
   ]
  },
  {
   "cell_type": "markdown",
   "metadata": {},
   "source": [
    "# Recursive Learning"
   ]
  },
  {
   "cell_type": "code",
   "execution_count": null,
   "metadata": {},
   "outputs": [],
   "source": [
    "t0 = time()\n",
    "training_r = Recursivelearning()\n",
    "training_r.train()\n",
    "print('Training time: '+str(time()-t0))\n",
    "\n",
    "f = open('RecursiveSolution', 'wb')\n",
    "pickle.dump(training_r, f)\n",
    "f.close()"
   ]
  },
  {
   "cell_type": "code",
   "execution_count": null,
   "metadata": {},
   "outputs": [],
   "source": [
    "scores = []\n",
    "for i in range(10000):\n",
    "    scores.append(ai_vs_random(training_r))\n",
    "print('Random 1st player: ' + str(scores.count(-1)))    \n",
    "print('AI 2nd player: ' + str(scores.count(1)))\n",
    "print('Tie game: ' + str(scores.count(0)))"
   ]
  },
  {
   "cell_type": "code",
   "execution_count": null,
   "metadata": {},
   "outputs": [],
   "source": [
    "scores = []\n",
    "for i in range(10000):\n",
    "    scores.append(ai_vs_random(training_r, ai_first=True))\n",
    "print('AI 1st player: ' + str(scores.count(-1)))    \n",
    "print('Random 2nd player: ' + str(scores.count(1)))\n",
    "print('Tie game: ' + str(scores.count(0)))"
   ]
  },
  {
   "cell_type": "code",
   "execution_count": null,
   "metadata": {},
   "outputs": [],
   "source": [
    "scores = []\n",
    "for i in range(10000):\n",
    "    scores.append(ai_vs_ai())\n",
    "print('AI 1st player: ' + str(scores.count(-1)))    \n",
    "print('AI 2nd player: ' + str(scores.count(1)))\n",
    "print('Tie game: ' + str(scores.count(0)))"
   ]
  },
  {
   "cell_type": "markdown",
   "metadata": {},
   "source": [
    "# Semi-Random Learning"
   ]
  },
  {
   "cell_type": "code",
   "execution_count": null,
   "metadata": {},
   "outputs": [],
   "source": [
    "t0 = time()\n",
    "training_q = Qlearning()\n",
    "n_games = 300000\n",
    "for _ in range(n_games):\n",
    "    training_q.simulate_game()\n",
    "    if _%1000==0: \n",
    "        clear_output()\n",
    "        print(_)\n",
    "print('Training time: '+str(time()-t0))\n",
    "\n",
    "f = open('QLearnedSolution', 'wb')\n",
    "pickle.dump(training_q, f)\n",
    "f.close()"
   ]
  },
  {
   "cell_type": "code",
   "execution_count": null,
   "metadata": {},
   "outputs": [],
   "source": [
    "scores = []\n",
    "for i in range(10000):\n",
    "    scores.append(ai_vs_random())\n",
    "print('Random 1st player: ' + str(scores.count(-1)))    \n",
    "print('AI 2nd player: ' + str(scores.count(1)))\n",
    "print('Tie game: ' + str(scores.count(0)))"
   ]
  },
  {
   "cell_type": "code",
   "execution_count": null,
   "metadata": {},
   "outputs": [],
   "source": [
    "scores = []\n",
    "for i in range(10000):\n",
    "    scores.append(ai_vs_random(ai_first=True))\n",
    "print('AI 1st player: ' + str(scores.count(-1)))    \n",
    "print('Random 2nd player: ' + str(scores.count(1)))\n",
    "print('Tie game: ' + str(scores.count(0)))"
   ]
  },
  {
   "cell_type": "code",
   "execution_count": null,
   "metadata": {},
   "outputs": [],
   "source": [
    "#AI vs AI\n",
    "scores = []\n",
    "for i in range(10000):\n",
    "    scores.append(ai_vs_ai())\n",
    "print('AI 1st player: ' + str(scores.count(-1)))    \n",
    "print('AI 2nd player: ' + str(scores.count(1)))\n",
    "print('Tie game: ' + str(scores.count(0)))"
   ]
  },
  {
   "cell_type": "markdown",
   "metadata": {},
   "source": [
    "# Play Yourself"
   ]
  },
  {
   "cell_type": "code",
   "execution_count": null,
   "metadata": {},
   "outputs": [],
   "source": [
    "play_game(training_q)"
   ]
  }
 ],
 "metadata": {
  "kernelspec": {
   "display_name": "Python 3",
   "language": "python",
   "name": "python3"
  },
  "language_info": {
   "codemirror_mode": {
    "name": "ipython",
    "version": 3
   },
   "file_extension": ".py",
   "mimetype": "text/x-python",
   "name": "python",
   "nbconvert_exporter": "python",
   "pygments_lexer": "ipython3",
   "version": "3.6.4"
  }
 },
 "nbformat": 4,
 "nbformat_minor": 2
}
