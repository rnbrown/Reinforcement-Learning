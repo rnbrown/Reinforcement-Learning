{
 "cells": [
  {
   "cell_type": "code",
   "execution_count": 1,
   "metadata": {},
   "outputs": [],
   "source": [
    "import numpy as np\n",
    "from itertools import product\n",
    "from IPython.display import clear_output\n",
    "import pickle\n",
    "\n",
    "from TicTacToeGame import TTTBoard, getkey\n",
    "from RecursiveLearning import Recursivelearning\n",
    "from QLearning import Qlearning"
   ]
  },
  {
   "cell_type": "code",
   "execution_count": 2,
   "metadata": {},
   "outputs": [
    {
     "name": "stdout",
     "output_type": "stream",
     "text": [
      "1st player win: 5867\n",
      "2nd player win: 2832\n",
      "Tie game: 1301\n"
     ]
    }
   ],
   "source": [
    "#random game\n",
    "def random_game():\n",
    "    board = TTTBoard()\n",
    "    while not board.done:\n",
    "        xy = (np.random.randint(0,3), np.random.randint(0,3))\n",
    "        if board.possible(xy):\n",
    "            board = board.update(xy)\n",
    "    return board\n",
    "\n",
    "# for _ in random_game().history:\n",
    "#     print(_['s'])\n",
    "#     print('-----------------')\n",
    "\n",
    "scores = []\n",
    "for i in range(10000):\n",
    "    scores.append(random_game().score())\n",
    "print('1st player win: ' + str(scores.count(-1)))\n",
    "print('2nd player win: ' + str(scores.count(1)))\n",
    "print('Tie game: ' + str(scores.count(0)))"
   ]
  },
  {
   "cell_type": "code",
   "execution_count": 3,
   "metadata": {},
   "outputs": [],
   "source": [
    "training = Recursivelearning()\n",
    "training.train()\n",
    "\n",
    "f = open('RecursiveSolution', 'wb')\n",
    "pickle.dump(training, f)\n",
    "f.close()"
   ]
  },
  {
   "cell_type": "code",
   "execution_count": 4,
   "metadata": {},
   "outputs": [
    {
     "name": "stdout",
     "output_type": "stream",
     "text": [
      "299000\n"
     ]
    }
   ],
   "source": [
    "training = Qlearning()\n",
    "n_games = 300000\n",
    "for _ in range(n_games):\n",
    "    training.simulate_game()\n",
    "    if _%1000==0: \n",
    "        clear_output()\n",
    "        print(_)\n",
    "        \n",
    "f = open('QLearnedSolution', 'wb')\n",
    "pickle.dump(training, f)\n",
    "f.close()"
   ]
  },
  {
   "cell_type": "code",
   "execution_count": 5,
   "metadata": {},
   "outputs": [],
   "source": [
    "def player_move(game):\n",
    "    xy = int(input('x: ')), int(input('y: '))\n",
    "    return xy\n",
    "\n",
    "def random_move(game):\n",
    "    poss = game.allpossible()\n",
    "    xy = poss[np.random.randint(len(poss))]\n",
    "    return xy\n",
    "\n",
    "def learned_move(game):\n",
    "    poss = game.allpossible()\n",
    "    poss = [xy[0]*3+xy[1] for xy in poss]  \n",
    "    move_list = [_ for _ in enumerate(training.Q[getkey(game.state)]) if (_[0] in poss)]\n",
    "    if game.turn == 0:\n",
    "        best_move = min(move_list,key=lambda x:x[1])[0]\n",
    "    else:\n",
    "        best_move = max(move_list,key=lambda x:x[1])[0]\n",
    "    return (best_move//3, best_move%3)\n",
    "\n",
    "def ai_vs_random(ai_first=False):\n",
    "    game = TTTBoard()\n",
    "    if ai_first==True:\n",
    "        move = learned_move(game)\n",
    "        game = game.update(move)\n",
    "    while not game.done:\n",
    "        move = random_move(game)\n",
    "        game = game.update(move)\n",
    "        if game.done:\n",
    "            break\n",
    "        move = learned_move(game)\n",
    "        game = game.update(move)\n",
    "    return game.score()  \n",
    "    \n",
    "#PLAY AGAINST AI\n",
    "def play_game():\n",
    "    game = TTTBoard()\n",
    "    while not game.done:\n",
    "        print(game.state)\n",
    "        print()\n",
    "        print('Your Move')\n",
    "        your_move = player_move(game)\n",
    "        print()\n",
    "        \n",
    "        game = game.update(your_move)\n",
    "        print()\n",
    "        print(game.state)\n",
    "        print()\n",
    "        if game.done:\n",
    "            break\n",
    "            \n",
    "        ai_move = learned_move(game)\n",
    "        print('ai_move')\n",
    "        print(ai_move)\n",
    "        print()\n",
    "        \n",
    "        game = game.update(ai_move)\n",
    "    print('Game Score: ' + str(game.score()))"
   ]
  },
  {
   "cell_type": "code",
   "execution_count": 6,
   "metadata": {},
   "outputs": [
    {
     "name": "stdout",
     "output_type": "stream",
     "text": [
      "Random 1st player: 0\n",
      "AI 2nd player: 9037\n",
      "Tie game: 963\n"
     ]
    }
   ],
   "source": [
    "scores = []\n",
    "for i in range(10000):\n",
    "    scores.append(ai_vs_random())\n",
    "print('Random 1st player: ' + str(scores.count(-1)))    \n",
    "print('AI 2nd player: ' + str(scores.count(1)))\n",
    "print('Tie game: ' + str(scores.count(0)))"
   ]
  },
  {
   "cell_type": "code",
   "execution_count": 7,
   "metadata": {},
   "outputs": [
    {
     "name": "stdout",
     "output_type": "stream",
     "text": [
      "AI 1st player: 9948\n",
      "Random 2nd player: 0\n",
      "Tie game: 52\n"
     ]
    }
   ],
   "source": [
    "scores = []\n",
    "for i in range(10000):\n",
    "    scores.append(ai_vs_random(ai_first=True))\n",
    "print('AI 1st player: ' + str(scores.count(-1)))    \n",
    "print('Random 2nd player: ' + str(scores.count(1)))\n",
    "print('Tie game: ' + str(scores.count(0)))"
   ]
  },
  {
   "cell_type": "code",
   "execution_count": null,
   "metadata": {},
   "outputs": [],
   "source": [
    "f = open('QLearnedSolution', 'rb')\n",
    "training = pickle.load(f)\n",
    "f.close()"
   ]
  }
 ],
 "metadata": {
  "kernelspec": {
   "display_name": "Python 3",
   "language": "python",
   "name": "python3"
  },
  "language_info": {
   "codemirror_mode": {
    "name": "ipython",
    "version": 3
   },
   "file_extension": ".py",
   "mimetype": "text/x-python",
   "name": "python",
   "nbconvert_exporter": "python",
   "pygments_lexer": "ipython3",
   "version": "3.6.4"
  }
 },
 "nbformat": 4,
 "nbformat_minor": 2
}
