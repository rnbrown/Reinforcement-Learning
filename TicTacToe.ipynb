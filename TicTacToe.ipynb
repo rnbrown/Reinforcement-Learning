{
 "cells": [
  {
   "cell_type": "code",
   "execution_count": 1,
   "metadata": {},
   "outputs": [],
   "source": [
    "import numpy as np\n",
    "from itertools import product\n",
    "from IPython.display import clear_output\n",
    "import pickle\n",
    "\n",
    "from TicTacToeGame import TTTBoard, getkey\n",
    "from RecursiveLearning import Recursivelearning\n",
    "from QLearning import Qlearning\n",
    "from PlayGame import ai_vs_random, ai_vs_ai, play_game\n",
    "\n",
    "from time import time"
   ]
  },
  {
   "cell_type": "code",
   "execution_count": 2,
   "metadata": {},
   "outputs": [
    {
     "name": "stdout",
     "output_type": "stream",
     "text": [
      "1st player win: 5782\n",
      "2nd player win: 2911\n",
      "Tie game: 1307\n"
     ]
    }
   ],
   "source": [
    "#random game\n",
    "\n",
    "def random_game():\n",
    "    board = TTTBoard()\n",
    "    while not board.done:\n",
    "        xy = (np.random.randint(0,3), np.random.randint(0,3))\n",
    "        if board.possible(xy):\n",
    "            board = board.update(xy)\n",
    "    return board\n",
    "\n",
    "# for _ in random_game().history:\n",
    "#     print(_['s'])\n",
    "#     print('-----------------')\n",
    "\n",
    "scores = []\n",
    "for i in range(10000):\n",
    "    scores.append(random_game().score())\n",
    "print('1st player win: ' + str(scores.count(-1)))\n",
    "print('2nd player win: ' + str(scores.count(1)))\n",
    "print('Tie game: ' + str(scores.count(0)))"
   ]
  },
  {
   "cell_type": "markdown",
   "metadata": {},
   "source": [
    "# Recursive Learning"
   ]
  },
  {
   "cell_type": "code",
   "execution_count": 3,
   "metadata": {},
   "outputs": [
    {
     "name": "stdout",
     "output_type": "stream",
     "text": [
      "Training time: 116.97050428390503\n"
     ]
    }
   ],
   "source": [
    "t0 = time()\n",
    "training_r = Recursivelearning()\n",
    "training_r.train()\n",
    "print('Training time: '+str(time()-t0))\n",
    "\n",
    "f = open('RecursiveSolution', 'wb')\n",
    "pickle.dump(training_r, f)\n",
    "f.close()"
   ]
  },
  {
   "cell_type": "code",
   "execution_count": 4,
   "metadata": {},
   "outputs": [
    {
     "name": "stdout",
     "output_type": "stream",
     "text": [
      "Random 1st player: 0\n",
      "AI 2nd player: 8046\n",
      "Tie game: 1954\n"
     ]
    }
   ],
   "source": [
    "scores = []\n",
    "for i in range(10000):\n",
    "    scores.append(ai_vs_random(training_r))\n",
    "print('Random 1st player: ' + str(scores.count(-1)))    \n",
    "print('AI 2nd player: ' + str(scores.count(1)))\n",
    "print('Tie game: ' + str(scores.count(0)))"
   ]
  },
  {
   "cell_type": "code",
   "execution_count": 5,
   "metadata": {},
   "outputs": [
    {
     "name": "stdout",
     "output_type": "stream",
     "text": [
      "AI 1st player: 9948\n",
      "Random 2nd player: 0\n",
      "Tie game: 52\n"
     ]
    }
   ],
   "source": [
    "scores = []\n",
    "for i in range(10000):\n",
    "    scores.append(ai_vs_random(training_r, ai_first=True))\n",
    "print('AI 1st player: ' + str(scores.count(-1)))    \n",
    "print('Random 2nd player: ' + str(scores.count(1)))\n",
    "print('Tie game: ' + str(scores.count(0)))"
   ]
  },
  {
   "cell_type": "code",
   "execution_count": 7,
   "metadata": {},
   "outputs": [
    {
     "name": "stdout",
     "output_type": "stream",
     "text": [
      "AI 1st player: 0\n",
      "AI 2nd player: 0\n",
      "Tie game: 10000\n"
     ]
    }
   ],
   "source": [
    "scores = []\n",
    "for i in range(10000):\n",
    "    scores.append(ai_vs_ai(training_r))\n",
    "print('AI 1st player: ' + str(scores.count(-1)))    \n",
    "print('AI 2nd player: ' + str(scores.count(1)))\n",
    "print('Tie game: ' + str(scores.count(0)))"
   ]
  },
  {
   "cell_type": "markdown",
   "metadata": {},
   "source": [
    "# Semi-Random Learning"
   ]
  },
  {
   "cell_type": "code",
   "execution_count": 8,
   "metadata": {},
   "outputs": [
    {
     "name": "stdout",
     "output_type": "stream",
     "text": [
      "299000\n",
      "Training time: 455.85381960868835\n"
     ]
    }
   ],
   "source": [
    "t0 = time()\n",
    "training_q = Qlearning()\n",
    "n_games = 300000\n",
    "for _ in range(n_games):\n",
    "    training_q.simulate_game()\n",
    "    if _%1000==0: \n",
    "        clear_output()\n",
    "        print(_)\n",
    "print('Training time: '+str(time()-t0))\n",
    "\n",
    "f = open('QLearnedSolution', 'wb')\n",
    "pickle.dump(training_q, f)\n",
    "f.close()"
   ]
  },
  {
   "cell_type": "code",
   "execution_count": 9,
   "metadata": {},
   "outputs": [
    {
     "ename": "TypeError",
     "evalue": "ai_vs_random() missing 1 required positional argument: 'training'",
     "output_type": "error",
     "traceback": [
      "\u001b[0;31m---------------------------------------------------------------------------\u001b[0m",
      "\u001b[0;31mTypeError\u001b[0m                                 Traceback (most recent call last)",
      "\u001b[0;32m<ipython-input-9-153c2605932e>\u001b[0m in \u001b[0;36m<module>\u001b[0;34m()\u001b[0m\n\u001b[1;32m      1\u001b[0m \u001b[0mscores\u001b[0m \u001b[0;34m=\u001b[0m \u001b[0;34m[\u001b[0m\u001b[0;34m]\u001b[0m\u001b[0;34m\u001b[0m\u001b[0m\n\u001b[1;32m      2\u001b[0m \u001b[0;32mfor\u001b[0m \u001b[0mi\u001b[0m \u001b[0;32min\u001b[0m \u001b[0mrange\u001b[0m\u001b[0;34m(\u001b[0m\u001b[0;36m10000\u001b[0m\u001b[0;34m)\u001b[0m\u001b[0;34m:\u001b[0m\u001b[0;34m\u001b[0m\u001b[0m\n\u001b[0;32m----> 3\u001b[0;31m     \u001b[0mscores\u001b[0m\u001b[0;34m.\u001b[0m\u001b[0mappend\u001b[0m\u001b[0;34m(\u001b[0m\u001b[0mai_vs_random\u001b[0m\u001b[0;34m(\u001b[0m\u001b[0;34m)\u001b[0m\u001b[0;34m)\u001b[0m\u001b[0;34m\u001b[0m\u001b[0m\n\u001b[0m\u001b[1;32m      4\u001b[0m \u001b[0mprint\u001b[0m\u001b[0;34m(\u001b[0m\u001b[0;34m'Random 1st player: '\u001b[0m \u001b[0;34m+\u001b[0m \u001b[0mstr\u001b[0m\u001b[0;34m(\u001b[0m\u001b[0mscores\u001b[0m\u001b[0;34m.\u001b[0m\u001b[0mcount\u001b[0m\u001b[0;34m(\u001b[0m\u001b[0;34m-\u001b[0m\u001b[0;36m1\u001b[0m\u001b[0;34m)\u001b[0m\u001b[0;34m)\u001b[0m\u001b[0;34m)\u001b[0m\u001b[0;34m\u001b[0m\u001b[0m\n\u001b[1;32m      5\u001b[0m \u001b[0mprint\u001b[0m\u001b[0;34m(\u001b[0m\u001b[0;34m'AI 2nd player: '\u001b[0m \u001b[0;34m+\u001b[0m \u001b[0mstr\u001b[0m\u001b[0;34m(\u001b[0m\u001b[0mscores\u001b[0m\u001b[0;34m.\u001b[0m\u001b[0mcount\u001b[0m\u001b[0;34m(\u001b[0m\u001b[0;36m1\u001b[0m\u001b[0;34m)\u001b[0m\u001b[0;34m)\u001b[0m\u001b[0;34m)\u001b[0m\u001b[0;34m\u001b[0m\u001b[0m\n",
      "\u001b[0;31mTypeError\u001b[0m: ai_vs_random() missing 1 required positional argument: 'training'"
     ]
    }
   ],
   "source": [
    "scores = []\n",
    "for i in range(10000):\n",
    "    scores.append(ai_vs_random())\n",
    "print('Random 1st player: ' + str(scores.count(-1)))    \n",
    "print('AI 2nd player: ' + str(scores.count(1)))\n",
    "print('Tie game: ' + str(scores.count(0)))"
   ]
  },
  {
   "cell_type": "code",
   "execution_count": null,
   "metadata": {},
   "outputs": [],
   "source": [
    "scores = []\n",
    "for i in range(10000):\n",
    "    scores.append(ai_vs_random(ai_first=True))\n",
    "print('AI 1st player: ' + str(scores.count(-1)))    \n",
    "print('Random 2nd player: ' + str(scores.count(1)))\n",
    "print('Tie game: ' + str(scores.count(0)))"
   ]
  },
  {
   "cell_type": "code",
   "execution_count": null,
   "metadata": {},
   "outputs": [],
   "source": [
    "#AI vs AI\n",
    "scores = []\n",
    "for i in range(10000):\n",
    "    scores.append(ai_vs_ai())\n",
    "print('AI 1st player: ' + str(scores.count(-1)))    \n",
    "print('AI 2nd player: ' + str(scores.count(1)))\n",
    "print('Tie game: ' + str(scores.count(0)))"
   ]
  },
  {
   "cell_type": "markdown",
   "metadata": {},
   "source": [
    "# Play Yourself"
   ]
  },
  {
   "cell_type": "code",
   "execution_count": null,
   "metadata": {},
   "outputs": [],
   "source": [
    "play_game(training_q)"
   ]
  },
  {
   "cell_type": "code",
   "execution_count": null,
   "metadata": {},
   "outputs": [],
   "source": []
  }
 ],
 "metadata": {
  "kernelspec": {
   "display_name": "Python 3",
   "language": "python",
   "name": "python3"
  },
  "language_info": {
   "codemirror_mode": {
    "name": "ipython",
    "version": 3
   },
   "file_extension": ".py",
   "mimetype": "text/x-python",
   "name": "python",
   "nbconvert_exporter": "python",
   "pygments_lexer": "ipython3",
   "version": "3.6.4"
  }
 },
 "nbformat": 4,
 "nbformat_minor": 2
}
