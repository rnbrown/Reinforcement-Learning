{
 "cells": [
  {
   "cell_type": "code",
   "execution_count": 1,
   "metadata": {},
   "outputs": [],
   "source": [
    "import numpy as np\n",
    "from itertools import product\n",
    "from IPython.display import clear_output\n",
    "import pickle\n",
    "\n",
    "from TicTacToeGame import TTTBoard, getkey\n",
    "from RecursiveLearning import Recursivelearning\n",
    "from QLearning import Qlearning\n",
    "from PlayGame import ai_vs_random, ai_vs_ai, play_game\n",
    "\n",
    "from time import time"
   ]
  },
  {
   "cell_type": "code",
   "execution_count": 2,
   "metadata": {},
   "outputs": [
    {
     "name": "stdout",
     "output_type": "stream",
     "text": [
      "1st player win: 5772\n",
      "2nd player win: 2958\n",
      "Tie game: 1270\n"
     ]
    }
   ],
   "source": [
    "#random game\n",
    "\n",
    "def random_game():\n",
    "    board = TTTBoard()\n",
    "    while not board.done:\n",
    "        xy = (np.random.randint(0,3), np.random.randint(0,3))\n",
    "        if board.possible(xy):\n",
    "            board = board.update(xy)\n",
    "    return board\n",
    "\n",
    "# for _ in random_game().history:\n",
    "#     print(_['s'])\n",
    "#     print('-----------------')\n",
    "\n",
    "scores = []\n",
    "for i in range(10000):\n",
    "    scores.append(random_game().score())\n",
    "print('1st player win: ' + str(scores.count(-1)))\n",
    "print('2nd player win: ' + str(scores.count(1)))\n",
    "print('Tie game: ' + str(scores.count(0)))"
   ]
  },
  {
   "cell_type": "markdown",
   "metadata": {},
   "source": [
    "# Recursive Learning"
   ]
  },
  {
   "cell_type": "code",
   "execution_count": 3,
   "metadata": {},
   "outputs": [
    {
     "name": "stdout",
     "output_type": "stream",
     "text": [
      "Training time: 95.59861707687378\n"
     ]
    }
   ],
   "source": [
    "t0 = time()\n",
    "training_r = Recursivelearning()\n",
    "training_r.train()\n",
    "print('Training time: '+str(time()-t0))\n",
    "\n",
    "f = open('RecursiveSolution', 'wb')\n",
    "pickle.dump(training_r, f)\n",
    "f.close()"
   ]
  },
  {
   "cell_type": "code",
   "execution_count": 4,
   "metadata": {},
   "outputs": [
    {
     "name": "stdout",
     "output_type": "stream",
     "text": [
      "Random 1st player: 0\n",
      "AI 2nd player: 8107\n",
      "Tie game: 1893\n"
     ]
    }
   ],
   "source": [
    "scores = []\n",
    "for i in range(10000):\n",
    "    scores.append(ai_vs_random(training_r))\n",
    "print('Random 1st player: ' + str(scores.count(-1)))    \n",
    "print('AI 2nd player: ' + str(scores.count(1)))\n",
    "print('Tie game: ' + str(scores.count(0)))"
   ]
  },
  {
   "cell_type": "code",
   "execution_count": 5,
   "metadata": {},
   "outputs": [
    {
     "name": "stdout",
     "output_type": "stream",
     "text": [
      "AI 1st player: 9944\n",
      "Random 2nd player: 0\n",
      "Tie game: 56\n"
     ]
    }
   ],
   "source": [
    "scores = []\n",
    "for i in range(10000):\n",
    "    scores.append(ai_vs_random(training_r, ai_first=True))\n",
    "print('AI 1st player: ' + str(scores.count(-1)))    \n",
    "print('Random 2nd player: ' + str(scores.count(1)))\n",
    "print('Tie game: ' + str(scores.count(0)))"
   ]
  },
  {
   "cell_type": "code",
   "execution_count": 6,
   "metadata": {},
   "outputs": [
    {
     "name": "stdout",
     "output_type": "stream",
     "text": [
      "AI 1st player: 0\n",
      "AI 2nd player: 0\n",
      "Tie game: 10000\n"
     ]
    }
   ],
   "source": [
    "scores = []\n",
    "for i in range(10000):\n",
    "    scores.append(ai_vs_ai(training_r))\n",
    "print('AI 1st player: ' + str(scores.count(-1)))    \n",
    "print('AI 2nd player: ' + str(scores.count(1)))\n",
    "print('Tie game: ' + str(scores.count(0)))"
   ]
  },
  {
   "cell_type": "markdown",
   "metadata": {},
   "source": [
    "# Semi-Random Learning"
   ]
  },
  {
   "cell_type": "code",
   "execution_count": 7,
   "metadata": {},
   "outputs": [
    {
     "name": "stdout",
     "output_type": "stream",
     "text": [
      "299000\n",
      "Training time: 331.6963872909546\n"
     ]
    }
   ],
   "source": [
    "t0 = time()\n",
    "training_q = Qlearning()\n",
    "n_games = 300000\n",
    "for _ in range(n_games):\n",
    "    training_q.simulate_game()\n",
    "    if _%1000==0: \n",
    "        clear_output()\n",
    "        print(_)\n",
    "print('Training time: '+str(time()-t0))\n",
    "\n",
    "f = open('QLearnedSolution', 'wb')\n",
    "pickle.dump(training_q, f)\n",
    "f.close()"
   ]
  },
  {
   "cell_type": "code",
   "execution_count": 8,
   "metadata": {},
   "outputs": [
    {
     "name": "stdout",
     "output_type": "stream",
     "text": [
      "Random 1st player: 21\n",
      "AI 2nd player: 8828\n",
      "Tie game: 1151\n"
     ]
    }
   ],
   "source": [
    "scores = []\n",
    "for i in range(10000):\n",
    "    scores.append(ai_vs_random(training_q))\n",
    "print('Random 1st player: ' + str(scores.count(-1)))    \n",
    "print('AI 2nd player: ' + str(scores.count(1)))\n",
    "print('Tie game: ' + str(scores.count(0)))"
   ]
  },
  {
   "cell_type": "code",
   "execution_count": 9,
   "metadata": {},
   "outputs": [
    {
     "name": "stdout",
     "output_type": "stream",
     "text": [
      "AI 1st player: 9959\n",
      "Random 2nd player: 0\n",
      "Tie game: 41\n"
     ]
    }
   ],
   "source": [
    "scores = []\n",
    "for i in range(10000):\n",
    "    scores.append(ai_vs_random(training_q, ai_first=True))\n",
    "print('AI 1st player: ' + str(scores.count(-1)))    \n",
    "print('Random 2nd player: ' + str(scores.count(1)))\n",
    "print('Tie game: ' + str(scores.count(0)))"
   ]
  },
  {
   "cell_type": "code",
   "execution_count": 10,
   "metadata": {},
   "outputs": [
    {
     "name": "stdout",
     "output_type": "stream",
     "text": [
      "AI 1st player: 0\n",
      "AI 2nd player: 0\n",
      "Tie game: 10000\n"
     ]
    }
   ],
   "source": [
    "#AI vs AI\n",
    "scores = []\n",
    "for i in range(10000):\n",
    "    scores.append(ai_vs_ai(training_q))\n",
    "print('AI 1st player: ' + str(scores.count(-1)))    \n",
    "print('AI 2nd player: ' + str(scores.count(1)))\n",
    "print('Tie game: ' + str(scores.count(0)))"
   ]
  },
  {
   "cell_type": "markdown",
   "metadata": {},
   "source": [
    "# Play Yourself"
   ]
  },
  {
   "cell_type": "code",
   "execution_count": 11,
   "metadata": {},
   "outputs": [
    {
     "name": "stdout",
     "output_type": "stream",
     "text": [
      "['_', '_', '_']\n",
      "['_', '_', '_']\n",
      "['_', '_', '_']\n",
      "\n",
      "Your Move\n",
      "x: 1\n",
      "y: 1\n",
      "\n",
      "\n",
      "['_', '_', '_']\n",
      "['_', 'X', '_']\n",
      "['_', '_', '_']\n",
      "\n",
      "ai_move\n",
      "(2, 0)\n",
      "\n",
      "['_', '_', '_']\n",
      "['_', 'X', '_']\n",
      "['O', '_', '_']\n",
      "\n",
      "Your Move\n",
      "x: 0\n",
      "y: 0\n",
      "\n",
      "\n",
      "['X', '_', '_']\n",
      "['_', 'X', '_']\n",
      "['O', '_', '_']\n",
      "\n",
      "ai_move\n",
      "(2, 2)\n",
      "\n",
      "['X', '_', '_']\n",
      "['_', 'X', '_']\n",
      "['O', '_', 'O']\n",
      "\n",
      "Your Move\n",
      "x: 2\n",
      "y: 1\n",
      "\n",
      "\n",
      "['X', '_', '_']\n",
      "['_', 'X', '_']\n",
      "['O', 'X', 'O']\n",
      "\n",
      "ai_move\n",
      "(0, 1)\n",
      "\n",
      "['X', 'O', '_']\n",
      "['_', 'X', '_']\n",
      "['O', 'X', 'O']\n",
      "\n",
      "Your Move\n",
      "x: 1\n",
      "y: 2\n",
      "\n",
      "\n",
      "['X', 'O', '_']\n",
      "['_', 'X', 'X']\n",
      "['O', 'X', 'O']\n",
      "\n",
      "ai_move\n",
      "(1, 0)\n",
      "\n",
      "['X', 'O', '_']\n",
      "['O', 'X', 'X']\n",
      "['O', 'X', 'O']\n",
      "\n",
      "Your Move\n",
      "x: 0\n",
      "y: 2\n",
      "\n",
      "\n",
      "['X', 'O', 'X']\n",
      "['O', 'X', 'X']\n",
      "['O', 'X', 'O']\n",
      "\n",
      "['X', 'O', 'X']\n",
      "['O', 'X', 'X']\n",
      "['O', 'X', 'O']\n",
      "Game Score: 0\n"
     ]
    }
   ],
   "source": [
    "play_game(training_q)"
   ]
  }
 ],
 "metadata": {
  "kernelspec": {
   "display_name": "Python 3",
   "language": "python",
   "name": "python3"
  },
  "language_info": {
   "codemirror_mode": {
    "name": "ipython",
    "version": 3
   },
   "file_extension": ".py",
   "mimetype": "text/x-python",
   "name": "python",
   "nbconvert_exporter": "python",
   "pygments_lexer": "ipython3",
   "version": "3.6.4"
  }
 },
 "nbformat": 4,
 "nbformat_minor": 2
}
